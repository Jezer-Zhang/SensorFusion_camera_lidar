{
 "cells": [
  {
   "cell_type": "code",
   "execution_count": 1,
   "id": "cc57e2df-fb99-4fe9-b193-749ae0969325",
   "metadata": {
    "tags": []
   },
   "outputs": [
    {
     "name": "stdout",
     "output_type": "stream",
     "text": [
      "Images copied and renamed successfully.\n"
     ]
    }
   ],
   "source": [
    "import shutil\n",
    "import torch\n",
    "\n",
    "# Define paths to the original and destination directories\n",
    "original_directory = './ori'\n",
    "destination_directory = './ori_image'\n",
    "\n",
    "# Iterate 9 times\n",
    "for iteration in range(10):\n",
    "    # Iterate over the first 32 images\n",
    "    for image_number in range(32):\n",
    "        # Construct the source and destination file paths\n",
    "        source_path = f'{original_directory}/{image_number:06}.png'  # Replace with your actual image naming scheme\n",
    "        destination_path = f'{destination_directory}/{(iteration * 32 + image_number):03}.png'\n",
    "\n",
    "        # Copy the image\n",
    "        shutil.copy(source_path, destination_path)\n",
    "\n",
    "print(\"Images copied and renamed successfully.\")\n"
   ]
  },
  {
   "cell_type": "code",
   "execution_count": 1,
   "id": "e6673a49-eb46-492a-b9c3-5f5a0a7b7eeb",
   "metadata": {
    "tags": []
   },
   "outputs": [
    {
     "name": "stdout",
     "output_type": "stream",
     "text": [
      "lidar copied and renamed successfully.\n"
     ]
    }
   ],
   "source": [
    "import shutil\n",
    "import torch\n",
    "\n",
    "# Define paths to the original and destination directories\n",
    "original_directory = 'lidar_tensor/spar'\n",
    "destination_directory = 'lidar_tensor/sparse'\n",
    "\n",
    "# Iterate 9 times\n",
    "for iteration in range(10):\n",
    "    # Iterate over the first 32 images\n",
    "    for image_number in range(32):\n",
    "        # Construct the source and destination file paths\n",
    "        source_path = f'{original_directory}/{image_number:06}.pth'  # Replace with your actual image naming scheme\n",
    "        destination_path = f'{destination_directory}/{(iteration * 32 + image_number):03}.pth'\n",
    "\n",
    "        # Copy the image\n",
    "        shutil.copy(source_path, destination_path)\n",
    "\n",
    "print(\"lidar copied and renamed successfully.\")\n"
   ]
  },
  {
   "cell_type": "code",
   "execution_count": null,
   "id": "6976b5d1-a991-4afd-b837-9f2451009e87",
   "metadata": {},
   "outputs": [],
   "source": []
  }
 ],
 "metadata": {
  "kernelspec": {
   "display_name": "PyTorch 1.10.2",
   "language": "python",
   "name": "pytorch"
  },
  "language_info": {
   "codemirror_mode": {
    "name": "ipython",
    "version": 3
   },
   "file_extension": ".py",
   "mimetype": "text/x-python",
   "name": "python",
   "nbconvert_exporter": "python",
   "pygments_lexer": "ipython3",
   "version": "3.8.15"
  }
 },
 "nbformat": 4,
 "nbformat_minor": 5
}
