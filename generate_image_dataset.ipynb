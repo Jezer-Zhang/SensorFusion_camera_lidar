{
 "cells": [
  {
   "cell_type": "code",
   "execution_count": 1,
   "id": "9a6b05c1-fa22-41b7-a42f-39f908a1dc0b",
   "metadata": {
    "tags": []
   },
   "outputs": [
    {
     "name": "stdout",
     "output_type": "stream",
     "text": [
      "successful\n"
     ]
    }
   ],
   "source": [
    "# image cut\n",
    "import torch\n",
    "import glob\n",
    "import cv2\n",
    "import os\n",
    "from matplotlib import pyplot as plt\n",
    "\n",
    "\n",
    "images_name_list = []\n",
    "\n",
    "image_path = '../../public/dataset_expensive_storage/KITTI/testing/image_2'\n",
    "images = sorted(glob.glob(image_path + '/*'))\n",
    "\n",
    "for i in range(256,288):\n",
    "    image = cv2.imread(images[i])\n",
    "    # image = cv2.resize(image, (image_width, image_height), interpolation=cv2.INTER_LINEAR)\n",
    "    image = cv2.cvtColor(image, cv2.COLOR_BGR2GRAY) # 必须有！！！ 不然3 channel\n",
    "    # print(image.shape)\n",
    "    image = image[150:350, 600:800]\n",
    "    IAMGE_name = os.path.basename(images[i])\n",
    "    cv2.imwrite(f'testdataset/ori_image/{IAMGE_name}', image)\n",
    "    # print(image.shape)\n",
    "\n",
    "    # plt.imshow(image, cmap='gray')\n",
    "    # plt.show\n",
    "        \n",
    "print('successful')"
   ]
  },
  {
   "cell_type": "code",
   "execution_count": null,
   "id": "c85dffd0-7606-4b9c-a503-385b8fa1edb0",
   "metadata": {},
   "outputs": [],
   "source": []
  }
 ],
 "metadata": {
  "kernelspec": {
   "display_name": "PyTorch 1.10.2",
   "language": "python",
   "name": "pytorch"
  },
  "language_info": {
   "codemirror_mode": {
    "name": "ipython",
    "version": 3
   },
   "file_extension": ".py",
   "mimetype": "text/x-python",
   "name": "python",
   "nbconvert_exporter": "python",
   "pygments_lexer": "ipython3",
   "version": "3.8.15"
  }
 },
 "nbformat": 4,
 "nbformat_minor": 5
}
